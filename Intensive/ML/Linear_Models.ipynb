{
 "cells": [
  {
   "cell_type": "code",
   "execution_count": 1,
   "id": "62d1beda",
   "metadata": {},
   "outputs": [],
   "source": [
    "import pandas as pd\n",
    "import numpy as np\n",
    "import tensorflow as tf\n",
    "from sklearn.linear_model import LinearRegression\n",
    "from sklearn.preprocessing import PolynomialFeatures\n",
    "from sklearn.pipeline import make_pipeline\n",
    "from sklearn.metrics import mean_squared_error, r2_score"
   ]
  },
  {
   "cell_type": "code",
   "execution_count": 2,
   "id": "9dd81cb1",
   "metadata": {},
   "outputs": [],
   "source": [
    "(X_train, y_train), (X_test, y_test) = tf.keras.datasets.fashion_mnist.load_data()"
   ]
  },
  {
   "cell_type": "code",
   "execution_count": 3,
   "id": "dd2660cc",
   "metadata": {},
   "outputs": [],
   "source": [
    "X_train = tf.image.resize(X_train[..., np.newaxis], (14, 14))[..., 0]\n",
    "X_test = tf.image.resize(X_test[..., np.newaxis], (14, 14))[..., 0]"
   ]
  },
  {
   "cell_type": "code",
   "execution_count": 4,
   "id": "9aad522f",
   "metadata": {},
   "outputs": [],
   "source": [
    "X_train = X_train[:1000]\n",
    "y_train = y_train[:1000]\n",
    "X_test = X_test[:500]\n",
    "y_test = y_test[:500]"
   ]
  },
  {
   "cell_type": "code",
   "execution_count": 5,
   "id": "d1cba56e",
   "metadata": {},
   "outputs": [],
   "source": [
    "X_train = X_train.numpy()\n",
    "X_test = X_test.numpy()"
   ]
  },
  {
   "cell_type": "code",
   "execution_count": 6,
   "id": "453f855b",
   "metadata": {},
   "outputs": [],
   "source": [
    "X_train = X_train.reshape(X_train.shape[0], -1)\n",
    "X_test = X_test.reshape(X_test.shape[0], -1)"
   ]
  },
  {
   "cell_type": "markdown",
   "id": "25529f42",
   "metadata": {},
   "source": [
    "Standart Model"
   ]
  },
  {
   "cell_type": "code",
   "execution_count": 7,
   "id": "c5bac1b6",
   "metadata": {},
   "outputs": [],
   "source": [
    "model = LinearRegression()"
   ]
  },
  {
   "cell_type": "code",
   "execution_count": 8,
   "id": "739c4eb4",
   "metadata": {},
   "outputs": [],
   "source": [
    "model.fit(X_train, y_train)\n",
    "predict_train = model.predict(X_train)\n",
    "predict_test = model.predict(X_test)"
   ]
  },
  {
   "cell_type": "code",
   "execution_count": 25,
   "id": "9b072bb5",
   "metadata": {},
   "outputs": [],
   "source": [
    "metrick_MSE_train = mean_squared_error(y_train, predict_train)\n",
    "RMSE_train = mean_squared_error(y_train, predict_train, squared=False)\n",
    "r2_train = r2_score(y_train, predict_train)"
   ]
  },
  {
   "cell_type": "code",
   "execution_count": 26,
   "id": "38a8e84b",
   "metadata": {},
   "outputs": [
    {
     "name": "stdout",
     "output_type": "stream",
     "text": [
      "Метрики на обучении\n",
      "MSE:1.6759557723999023\n",
      "RMSE:1.2945871353149414\n",
      "R2:0.8011929899393293\n"
     ]
    }
   ],
   "source": [
    "print(f'Метрики на обучении\\nMSE:{metrick_MSE_train}\\nRMSE:{RMSE_train}\\nR2:{r2_train}')"
   ]
  },
  {
   "cell_type": "code",
   "execution_count": 27,
   "id": "79663fd8",
   "metadata": {},
   "outputs": [],
   "source": [
    "metrick_MSE_test = mean_squared_error(y_test, predict_test)\n",
    "RMSE_test = mean_squared_error(y_test, predict_test, squared=False)\n",
    "r2_test = r2_score(y_test, predict_test)"
   ]
  },
  {
   "cell_type": "code",
   "execution_count": 28,
   "id": "0d4643ae",
   "metadata": {},
   "outputs": [
    {
     "name": "stdout",
     "output_type": "stream",
     "text": [
      "Метрики на тесте\n",
      "MSE:2.41107177734375\n",
      "RMSE:1.5527626276016235\n",
      "R2:0.7108965738928097\n"
     ]
    }
   ],
   "source": [
    "print(f'Метрики на тесте\\nMSE:{metrick_MSE_test}\\nRMSE:{RMSE_test}\\nR2:{r2_test}')"
   ]
  },
  {
   "cell_type": "markdown",
   "id": "3a2fe1e2",
   "metadata": {},
   "source": [
    "PolynomialFeatures ON"
   ]
  },
  {
   "cell_type": "code",
   "execution_count": 29,
   "id": "0827d0ad",
   "metadata": {},
   "outputs": [],
   "source": [
    "pipe = make_pipeline(PolynomialFeatures(degree=2), LinearRegression())\n",
    "pipe.fit(X_train, y_train)\n",
    "pred_train = pipe.predict(X_train)\n",
    "pred_test = pipe.predict(X_test)"
   ]
  },
  {
   "cell_type": "code",
   "execution_count": 30,
   "id": "330ac687",
   "metadata": {},
   "outputs": [],
   "source": [
    "metrick_MSE_train_pol = mean_squared_error(y_train, pred_train)\n",
    "RMSE_train_pol = mean_squared_error(y_train, pred_train, squared=False)\n",
    "r2_train_pol = r2_score(y_train, pred_train)"
   ]
  },
  {
   "cell_type": "code",
   "execution_count": 31,
   "id": "e9bec7f6",
   "metadata": {},
   "outputs": [
    {
     "name": "stdout",
     "output_type": "stream",
     "text": [
      "Метрики на обучении\n",
      "MSE:2.2346470984757616e-07\n",
      "RMSE:0.00047272053780034184\n",
      "R2:0.9999999734919301\n"
     ]
    }
   ],
   "source": [
    "print(f'Метрики на обучении\\nMSE:{metrick_MSE_train_pol}\\nRMSE:{RMSE_train_pol}\\nR2:{r2_train_pol}')"
   ]
  },
  {
   "cell_type": "code",
   "execution_count": 32,
   "id": "25c98398",
   "metadata": {},
   "outputs": [],
   "source": [
    "metrick_MSE_test_pol = mean_squared_error(y_test, pred_test)\n",
    "RMSE_test_pol = mean_squared_error(y_test, pred_test, squared=False)\n",
    "r2_test_pol = r2_score(y_test, pred_test)"
   ]
  },
  {
   "cell_type": "code",
   "execution_count": 33,
   "id": "f50b40bd",
   "metadata": {},
   "outputs": [
    {
     "name": "stdout",
     "output_type": "stream",
     "text": [
      "Метрики на тесте\n",
      "MSE:8.54384994506836\n",
      "RMSE:2.9229865074157715\n",
      "R2:-0.0244640283608879\n"
     ]
    }
   ],
   "source": [
    "print(f'Метрики на тесте\\nMSE:{metrick_MSE_test_pol}\\nRMSE:{RMSE_test_pol}\\nR2:{r2_test_pol}')"
   ]
  }
 ],
 "metadata": {
  "kernelspec": {
   "display_name": "Python 3 (ipykernel)",
   "language": "python",
   "name": "python3"
  },
  "language_info": {
   "codemirror_mode": {
    "name": "ipython",
    "version": 3
   },
   "file_extension": ".py",
   "mimetype": "text/x-python",
   "name": "python",
   "nbconvert_exporter": "python",
   "pygments_lexer": "ipython3",
   "version": "3.10.5"
  }
 },
 "nbformat": 4,
 "nbformat_minor": 5
}
